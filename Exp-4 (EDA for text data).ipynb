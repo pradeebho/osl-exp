{
 "cells": [
  {
   "cell_type": "code",
   "execution_count": 1,
   "id": "7a049686",
   "metadata": {},
   "outputs": [],
   "source": [
    "import pandas as pd\n",
    "import numpy as np"
   ]
  },
  {
   "cell_type": "code",
   "execution_count": 4,
   "id": "1395571f",
   "metadata": {},
   "outputs": [
    {
     "data": {
      "text/html": [
       "<div>\n",
       "<style scoped>\n",
       "    .dataframe tbody tr th:only-of-type {\n",
       "        vertical-align: middle;\n",
       "    }\n",
       "\n",
       "    .dataframe tbody tr th {\n",
       "        vertical-align: top;\n",
       "    }\n",
       "\n",
       "    .dataframe thead th {\n",
       "        text-align: right;\n",
       "    }\n",
       "</style>\n",
       "<table border=\"1\" class=\"dataframe\">\n",
       "  <thead>\n",
       "    <tr style=\"text-align: right;\">\n",
       "      <th></th>\n",
       "      <th>name</th>\n",
       "      <th>review</th>\n",
       "      <th>rating</th>\n",
       "    </tr>\n",
       "  </thead>\n",
       "  <tbody>\n",
       "    <tr>\n",
       "      <th>0</th>\n",
       "      <td>Planetwise Flannel Wipes</td>\n",
       "      <td>These flannel wipes are OK, but in my opinion ...</td>\n",
       "      <td>3</td>\n",
       "    </tr>\n",
       "    <tr>\n",
       "      <th>1</th>\n",
       "      <td>Planetwise Wipe Pouch</td>\n",
       "      <td>it came early and was not disappointed. i love...</td>\n",
       "      <td>5</td>\n",
       "    </tr>\n",
       "    <tr>\n",
       "      <th>2</th>\n",
       "      <td>Annas Dream Full Quilt with 2 Shams</td>\n",
       "      <td>Very soft and comfortable and warmer than it l...</td>\n",
       "      <td>5</td>\n",
       "    </tr>\n",
       "    <tr>\n",
       "      <th>3</th>\n",
       "      <td>Stop Pacifier Sucking without tears with Thumb...</td>\n",
       "      <td>This is a product well worth the purchase.  I ...</td>\n",
       "      <td>5</td>\n",
       "    </tr>\n",
       "    <tr>\n",
       "      <th>4</th>\n",
       "      <td>Stop Pacifier Sucking without tears with Thumb...</td>\n",
       "      <td>All of my kids have cried non-stop when I trie...</td>\n",
       "      <td>5</td>\n",
       "    </tr>\n",
       "  </tbody>\n",
       "</table>\n",
       "</div>"
      ],
      "text/plain": [
       "                                                name  \\\n",
       "0                           Planetwise Flannel Wipes   \n",
       "1                              Planetwise Wipe Pouch   \n",
       "2                Annas Dream Full Quilt with 2 Shams   \n",
       "3  Stop Pacifier Sucking without tears with Thumb...   \n",
       "4  Stop Pacifier Sucking without tears with Thumb...   \n",
       "\n",
       "                                              review  rating  \n",
       "0  These flannel wipes are OK, but in my opinion ...       3  \n",
       "1  it came early and was not disappointed. i love...       5  \n",
       "2  Very soft and comfortable and warmer than it l...       5  \n",
       "3  This is a product well worth the purchase.  I ...       5  \n",
       "4  All of my kids have cried non-stop when I trie...       5  "
      ]
     },
     "execution_count": 4,
     "metadata": {},
     "output_type": "execute_result"
    }
   ],
   "source": [
    "df=pd.read_csv(\"amazon_baby1.csv\")\n",
    "df.head(5)"
   ]
  },
  {
   "cell_type": "code",
   "execution_count": 5,
   "id": "3ded3f95",
   "metadata": {},
   "outputs": [
    {
     "data": {
      "text/plain": [
       "1499"
      ]
     },
     "execution_count": 5,
     "metadata": {},
     "output_type": "execute_result"
    }
   ],
   "source": [
    "len(df)"
   ]
  },
  {
   "cell_type": "code",
   "execution_count": 6,
   "id": "ea4fb1c5",
   "metadata": {},
   "outputs": [
    {
     "data": {
      "text/plain": [
       "Baby Trend Diaper Champ                                                                                  333\n",
       "Munchkin Mozart Magic Cube                                                                               191\n",
       "Safety 1st Deluxe 4-in-1 Bath Station                                                                    154\n",
       "Summer Infant Ultimate Crib Sheet, 52&quot; x 28&quot;                                                    62\n",
       "Northstate Superyard Playgate Light Gray                                                                  55\n",
       "                                                                                                        ... \n",
       "Super Mario Game Nintendo Wall Sticker and Decal                                                           1\n",
       "Edu-Petit Teddy Bobo\\'s Big Learning Book Developmental Toy                                                1\n",
       "Musical Christmas Nativity Scene Angel with Baby Jesus in a Rustic Barkwood Resin Manger 8&quot; Tall      1\n",
       "Jellycat Elephant and Mouse Book                                                                           1\n",
       "God Created Everything Nite Lite                                                                           1\n",
       "Name: name, Length: 130, dtype: int64"
      ]
     },
     "execution_count": 6,
     "metadata": {},
     "output_type": "execute_result"
    }
   ],
   "source": [
    "df['name'].value_counts()"
   ]
  },
  {
   "cell_type": "code",
   "execution_count": 7,
   "id": "e825556f",
   "metadata": {},
   "outputs": [],
   "source": [
    "df=df[df.groupby('name')[\"name\"].transform('size')>20]"
   ]
  },
  {
   "cell_type": "code",
   "execution_count": 8,
   "id": "9956df91",
   "metadata": {},
   "outputs": [
    {
     "data": {
      "text/html": [
       "<div>\n",
       "<style scoped>\n",
       "    .dataframe tbody tr th:only-of-type {\n",
       "        vertical-align: middle;\n",
       "    }\n",
       "\n",
       "    .dataframe tbody tr th {\n",
       "        vertical-align: top;\n",
       "    }\n",
       "\n",
       "    .dataframe thead th {\n",
       "        text-align: right;\n",
       "    }\n",
       "</style>\n",
       "<table border=\"1\" class=\"dataframe\">\n",
       "  <thead>\n",
       "    <tr style=\"text-align: right;\">\n",
       "      <th></th>\n",
       "      <th>name</th>\n",
       "      <th>review</th>\n",
       "      <th>rating</th>\n",
       "    </tr>\n",
       "  </thead>\n",
       "  <tbody>\n",
       "    <tr>\n",
       "      <th>153</th>\n",
       "      <td>Fisher Price Nesting Action Vehicles</td>\n",
       "      <td>We bought these for our son when he turned two...</td>\n",
       "      <td>5</td>\n",
       "    </tr>\n",
       "    <tr>\n",
       "      <th>154</th>\n",
       "      <td>Fisher Price Nesting Action Vehicles</td>\n",
       "      <td>My son loves stacking cups, so a friend recomm...</td>\n",
       "      <td>5</td>\n",
       "    </tr>\n",
       "    <tr>\n",
       "      <th>155</th>\n",
       "      <td>Fisher Price Nesting Action Vehicles</td>\n",
       "      <td>My son Cameron just loves these great little s...</td>\n",
       "      <td>5</td>\n",
       "    </tr>\n",
       "    <tr>\n",
       "      <th>156</th>\n",
       "      <td>Fisher Price Nesting Action Vehicles</td>\n",
       "      <td>My one year old son received these as a birthd...</td>\n",
       "      <td>5</td>\n",
       "    </tr>\n",
       "    <tr>\n",
       "      <th>157</th>\n",
       "      <td>Fisher Price Nesting Action Vehicles</td>\n",
       "      <td>I purchased this toy for my great grandson\\'s ...</td>\n",
       "      <td>5</td>\n",
       "    </tr>\n",
       "    <tr>\n",
       "      <th>...</th>\n",
       "      <td>...</td>\n",
       "      <td>...</td>\n",
       "      <td>...</td>\n",
       "    </tr>\n",
       "    <tr>\n",
       "      <th>1460</th>\n",
       "      <td>Sesame Street Potty Soft Seat, Elmo</td>\n",
       "      <td>Bought this for my 2 year old daughter when sh...</td>\n",
       "      <td>2</td>\n",
       "    </tr>\n",
       "    <tr>\n",
       "      <th>1461</th>\n",
       "      <td>Sesame Street Potty Soft Seat, Elmo</td>\n",
       "      <td>Although my son was excited about this seat it...</td>\n",
       "      <td>2</td>\n",
       "    </tr>\n",
       "    <tr>\n",
       "      <th>1462</th>\n",
       "      <td>Sesame Street Potty Soft Seat, Elmo</td>\n",
       "      <td>My grandson love the Ginsey Diego Soft Potty S...</td>\n",
       "      <td>5</td>\n",
       "    </tr>\n",
       "    <tr>\n",
       "      <th>1463</th>\n",
       "      <td>Sesame Street Potty Soft Seat, Elmo</td>\n",
       "      <td>this product is wonderful, especially for litt...</td>\n",
       "      <td>5</td>\n",
       "    </tr>\n",
       "    <tr>\n",
       "      <th>1464</th>\n",
       "      <td>Sesame Street Potty Soft Seat, Elmo</td>\n",
       "      <td>I have the Diego and the Disney cars seat for ...</td>\n",
       "      <td>2</td>\n",
       "    </tr>\n",
       "  </tbody>\n",
       "</table>\n",
       "<p>990 rows × 3 columns</p>\n",
       "</div>"
      ],
      "text/plain": [
       "                                      name  \\\n",
       "153   Fisher Price Nesting Action Vehicles   \n",
       "154   Fisher Price Nesting Action Vehicles   \n",
       "155   Fisher Price Nesting Action Vehicles   \n",
       "156   Fisher Price Nesting Action Vehicles   \n",
       "157   Fisher Price Nesting Action Vehicles   \n",
       "...                                    ...   \n",
       "1460   Sesame Street Potty Soft Seat, Elmo   \n",
       "1461   Sesame Street Potty Soft Seat, Elmo   \n",
       "1462   Sesame Street Potty Soft Seat, Elmo   \n",
       "1463   Sesame Street Potty Soft Seat, Elmo   \n",
       "1464   Sesame Street Potty Soft Seat, Elmo   \n",
       "\n",
       "                                                 review  rating  \n",
       "153   We bought these for our son when he turned two...       5  \n",
       "154   My son loves stacking cups, so a friend recomm...       5  \n",
       "155   My son Cameron just loves these great little s...       5  \n",
       "156   My one year old son received these as a birthd...       5  \n",
       "157   I purchased this toy for my great grandson\\'s ...       5  \n",
       "...                                                 ...     ...  \n",
       "1460  Bought this for my 2 year old daughter when sh...       2  \n",
       "1461  Although my son was excited about this seat it...       2  \n",
       "1462  My grandson love the Ginsey Diego Soft Potty S...       5  \n",
       "1463  this product is wonderful, especially for litt...       5  \n",
       "1464  I have the Diego and the Disney cars seat for ...       2  \n",
       "\n",
       "[990 rows x 3 columns]"
      ]
     },
     "execution_count": 8,
     "metadata": {},
     "output_type": "execute_result"
    }
   ],
   "source": [
    "df"
   ]
  },
  {
   "cell_type": "code",
   "execution_count": 9,
   "id": "e42bc3a9",
   "metadata": {},
   "outputs": [
    {
     "data": {
      "text/plain": [
       "990"
      ]
     },
     "execution_count": 9,
     "metadata": {},
     "output_type": "execute_result"
    }
   ],
   "source": [
    "len(df)"
   ]
  },
  {
   "cell_type": "code",
   "execution_count": 10,
   "id": "44ef6273",
   "metadata": {},
   "outputs": [],
   "source": [
    "df['review']=df['review'].astype(str)"
   ]
  },
  {
   "cell_type": "code",
   "execution_count": 12,
   "id": "528e9e1a",
   "metadata": {},
   "outputs": [],
   "source": [
    "def clean(txt):\n",
    "    txt = txt.str.replace(\"()\", \"\")\n",
    "    txt = txt.str.replace('(<a).*(>).*()', '')\n",
    "    txt = txt.str.replace('(&amp)', '')\n",
    "    txt = txt.str.replace('(&gt)', '')\n",
    "    txt = txt.str.replace('(&lt)', '')\n",
    "    txt = txt.str.replace('(\\xa0)', ' ')  \n",
    "    txtdf['review'] = clean(df['review'])\n",
    "    return txtdf['review'] "
   ]
  },
  {
   "cell_type": "code",
   "execution_count": 13,
   "id": "fcbb7e4c",
   "metadata": {},
   "outputs": [
    {
     "data": {
      "text/html": [
       "<div>\n",
       "<style scoped>\n",
       "    .dataframe tbody tr th:only-of-type {\n",
       "        vertical-align: middle;\n",
       "    }\n",
       "\n",
       "    .dataframe tbody tr th {\n",
       "        vertical-align: top;\n",
       "    }\n",
       "\n",
       "    .dataframe thead th {\n",
       "        text-align: right;\n",
       "    }\n",
       "</style>\n",
       "<table border=\"1\" class=\"dataframe\">\n",
       "  <thead>\n",
       "    <tr style=\"text-align: right;\">\n",
       "      <th></th>\n",
       "      <th>name</th>\n",
       "      <th>review</th>\n",
       "      <th>rating</th>\n",
       "    </tr>\n",
       "  </thead>\n",
       "  <tbody>\n",
       "    <tr>\n",
       "      <th>153</th>\n",
       "      <td>Fisher Price Nesting Action Vehicles</td>\n",
       "      <td>We bought these for our son when he turned two...</td>\n",
       "      <td>5</td>\n",
       "    </tr>\n",
       "    <tr>\n",
       "      <th>154</th>\n",
       "      <td>Fisher Price Nesting Action Vehicles</td>\n",
       "      <td>My son loves stacking cups, so a friend recomm...</td>\n",
       "      <td>5</td>\n",
       "    </tr>\n",
       "    <tr>\n",
       "      <th>155</th>\n",
       "      <td>Fisher Price Nesting Action Vehicles</td>\n",
       "      <td>My son Cameron just loves these great little s...</td>\n",
       "      <td>5</td>\n",
       "    </tr>\n",
       "    <tr>\n",
       "      <th>156</th>\n",
       "      <td>Fisher Price Nesting Action Vehicles</td>\n",
       "      <td>My one year old son received these as a birthd...</td>\n",
       "      <td>5</td>\n",
       "    </tr>\n",
       "    <tr>\n",
       "      <th>157</th>\n",
       "      <td>Fisher Price Nesting Action Vehicles</td>\n",
       "      <td>I purchased this toy for my great grandson\\'s ...</td>\n",
       "      <td>5</td>\n",
       "    </tr>\n",
       "  </tbody>\n",
       "</table>\n",
       "</div>"
      ],
      "text/plain": [
       "                                     name  \\\n",
       "153  Fisher Price Nesting Action Vehicles   \n",
       "154  Fisher Price Nesting Action Vehicles   \n",
       "155  Fisher Price Nesting Action Vehicles   \n",
       "156  Fisher Price Nesting Action Vehicles   \n",
       "157  Fisher Price Nesting Action Vehicles   \n",
       "\n",
       "                                                review  rating  \n",
       "153  We bought these for our son when he turned two...       5  \n",
       "154  My son loves stacking cups, so a friend recomm...       5  \n",
       "155  My son Cameron just loves these great little s...       5  \n",
       "156  My one year old son received these as a birthd...       5  \n",
       "157  I purchased this toy for my great grandson\\'s ...       5  "
      ]
     },
     "execution_count": 13,
     "metadata": {},
     "output_type": "execute_result"
    }
   ],
   "source": [
    "df.head(5)"
   ]
  },
  {
   "cell_type": "code",
   "execution_count": 14,
   "id": "25a8dc0a",
   "metadata": {},
   "outputs": [],
   "source": [
    "df['review1'] = df['review'].apply(lambda x: \" \".join(x.lower() for x in x.split()))"
   ]
  },
  {
   "cell_type": "code",
   "execution_count": 15,
   "id": "526bf272",
   "metadata": {},
   "outputs": [
    {
     "data": {
      "text/html": [
       "<div>\n",
       "<style scoped>\n",
       "    .dataframe tbody tr th:only-of-type {\n",
       "        vertical-align: middle;\n",
       "    }\n",
       "\n",
       "    .dataframe tbody tr th {\n",
       "        vertical-align: top;\n",
       "    }\n",
       "\n",
       "    .dataframe thead th {\n",
       "        text-align: right;\n",
       "    }\n",
       "</style>\n",
       "<table border=\"1\" class=\"dataframe\">\n",
       "  <thead>\n",
       "    <tr style=\"text-align: right;\">\n",
       "      <th></th>\n",
       "      <th>name</th>\n",
       "      <th>review</th>\n",
       "      <th>rating</th>\n",
       "      <th>review1</th>\n",
       "    </tr>\n",
       "  </thead>\n",
       "  <tbody>\n",
       "    <tr>\n",
       "      <th>153</th>\n",
       "      <td>Fisher Price Nesting Action Vehicles</td>\n",
       "      <td>We bought these for our son when he turned two...</td>\n",
       "      <td>5</td>\n",
       "      <td>we bought these for our son when he turned two...</td>\n",
       "    </tr>\n",
       "    <tr>\n",
       "      <th>154</th>\n",
       "      <td>Fisher Price Nesting Action Vehicles</td>\n",
       "      <td>My son loves stacking cups, so a friend recomm...</td>\n",
       "      <td>5</td>\n",
       "      <td>my son loves stacking cups, so a friend recomm...</td>\n",
       "    </tr>\n",
       "    <tr>\n",
       "      <th>155</th>\n",
       "      <td>Fisher Price Nesting Action Vehicles</td>\n",
       "      <td>My son Cameron just loves these great little s...</td>\n",
       "      <td>5</td>\n",
       "      <td>my son cameron just loves these great little s...</td>\n",
       "    </tr>\n",
       "    <tr>\n",
       "      <th>156</th>\n",
       "      <td>Fisher Price Nesting Action Vehicles</td>\n",
       "      <td>My one year old son received these as a birthd...</td>\n",
       "      <td>5</td>\n",
       "      <td>my one year old son received these as a birthd...</td>\n",
       "    </tr>\n",
       "    <tr>\n",
       "      <th>157</th>\n",
       "      <td>Fisher Price Nesting Action Vehicles</td>\n",
       "      <td>I purchased this toy for my great grandson\\'s ...</td>\n",
       "      <td>5</td>\n",
       "      <td>i purchased this toy for my great grandson\\'s ...</td>\n",
       "    </tr>\n",
       "    <tr>\n",
       "      <th>...</th>\n",
       "      <td>...</td>\n",
       "      <td>...</td>\n",
       "      <td>...</td>\n",
       "      <td>...</td>\n",
       "    </tr>\n",
       "    <tr>\n",
       "      <th>1460</th>\n",
       "      <td>Sesame Street Potty Soft Seat, Elmo</td>\n",
       "      <td>Bought this for my 2 year old daughter when sh...</td>\n",
       "      <td>2</td>\n",
       "      <td>bought this for my 2 year old daughter when sh...</td>\n",
       "    </tr>\n",
       "    <tr>\n",
       "      <th>1461</th>\n",
       "      <td>Sesame Street Potty Soft Seat, Elmo</td>\n",
       "      <td>Although my son was excited about this seat it...</td>\n",
       "      <td>2</td>\n",
       "      <td>although my son was excited about this seat it...</td>\n",
       "    </tr>\n",
       "    <tr>\n",
       "      <th>1462</th>\n",
       "      <td>Sesame Street Potty Soft Seat, Elmo</td>\n",
       "      <td>My grandson love the Ginsey Diego Soft Potty S...</td>\n",
       "      <td>5</td>\n",
       "      <td>my grandson love the ginsey diego soft potty s...</td>\n",
       "    </tr>\n",
       "    <tr>\n",
       "      <th>1463</th>\n",
       "      <td>Sesame Street Potty Soft Seat, Elmo</td>\n",
       "      <td>this product is wonderful, especially for litt...</td>\n",
       "      <td>5</td>\n",
       "      <td>this product is wonderful, especially for litt...</td>\n",
       "    </tr>\n",
       "    <tr>\n",
       "      <th>1464</th>\n",
       "      <td>Sesame Street Potty Soft Seat, Elmo</td>\n",
       "      <td>I have the Diego and the Disney cars seat for ...</td>\n",
       "      <td>2</td>\n",
       "      <td>i have the diego and the disney cars seat for ...</td>\n",
       "    </tr>\n",
       "  </tbody>\n",
       "</table>\n",
       "<p>990 rows × 4 columns</p>\n",
       "</div>"
      ],
      "text/plain": [
       "                                      name  \\\n",
       "153   Fisher Price Nesting Action Vehicles   \n",
       "154   Fisher Price Nesting Action Vehicles   \n",
       "155   Fisher Price Nesting Action Vehicles   \n",
       "156   Fisher Price Nesting Action Vehicles   \n",
       "157   Fisher Price Nesting Action Vehicles   \n",
       "...                                    ...   \n",
       "1460   Sesame Street Potty Soft Seat, Elmo   \n",
       "1461   Sesame Street Potty Soft Seat, Elmo   \n",
       "1462   Sesame Street Potty Soft Seat, Elmo   \n",
       "1463   Sesame Street Potty Soft Seat, Elmo   \n",
       "1464   Sesame Street Potty Soft Seat, Elmo   \n",
       "\n",
       "                                                 review  rating  \\\n",
       "153   We bought these for our son when he turned two...       5   \n",
       "154   My son loves stacking cups, so a friend recomm...       5   \n",
       "155   My son Cameron just loves these great little s...       5   \n",
       "156   My one year old son received these as a birthd...       5   \n",
       "157   I purchased this toy for my great grandson\\'s ...       5   \n",
       "...                                                 ...     ...   \n",
       "1460  Bought this for my 2 year old daughter when sh...       2   \n",
       "1461  Although my son was excited about this seat it...       2   \n",
       "1462  My grandson love the Ginsey Diego Soft Potty S...       5   \n",
       "1463  this product is wonderful, especially for litt...       5   \n",
       "1464  I have the Diego and the Disney cars seat for ...       2   \n",
       "\n",
       "                                                review1  \n",
       "153   we bought these for our son when he turned two...  \n",
       "154   my son loves stacking cups, so a friend recomm...  \n",
       "155   my son cameron just loves these great little s...  \n",
       "156   my one year old son received these as a birthd...  \n",
       "157   i purchased this toy for my great grandson\\'s ...  \n",
       "...                                                 ...  \n",
       "1460  bought this for my 2 year old daughter when sh...  \n",
       "1461  although my son was excited about this seat it...  \n",
       "1462  my grandson love the ginsey diego soft potty s...  \n",
       "1463  this product is wonderful, especially for litt...  \n",
       "1464  i have the diego and the disney cars seat for ...  \n",
       "\n",
       "[990 rows x 4 columns]"
      ]
     },
     "execution_count": 15,
     "metadata": {},
     "output_type": "execute_result"
    }
   ],
   "source": [
    "df"
   ]
  },
  {
   "cell_type": "code",
   "execution_count": 16,
   "id": "5783fe73",
   "metadata": {},
   "outputs": [
    {
     "name": "stderr",
     "output_type": "stream",
     "text": [
      "<ipython-input-16-13026600a3d1>:1: FutureWarning: The default value of regex will change from True to False in a future version.\n",
      "  df['review1'] = df['review1'].str.replace('[^\\w\\s]', '')\n"
     ]
    },
    {
     "data": {
      "text/plain": [
       "153    we bought these for our son when he turned two...\n",
       "154    my son loves stacking cups so a friend recomme...\n",
       "155    my son cameron just loves these great little s...\n",
       "156    my one year old son received these as a birthd...\n",
       "157    i purchased this toy for my great grandsons fi...\n",
       "Name: review1, dtype: object"
      ]
     },
     "execution_count": 16,
     "metadata": {},
     "output_type": "execute_result"
    }
   ],
   "source": [
    "df['review1'] = df['review1'].str.replace('[^\\w\\s]', '')\n",
    "df['review1'].head()"
   ]
  },
  {
   "cell_type": "code",
   "execution_count": 17,
   "id": "d0977b88",
   "metadata": {},
   "outputs": [
    {
     "name": "stderr",
     "output_type": "stream",
     "text": [
      "[nltk_data] Downloading package stopwords to\n",
      "[nltk_data]     C:\\Users\\Lenovo\\AppData\\Roaming\\nltk_data...\n",
      "[nltk_data]   Unzipping corpora\\stopwords.zip.\n"
     ]
    },
    {
     "data": {
      "text/plain": [
       "153    bought son turned two seen playmates home love...\n",
       "154    son loves stacking cups friend recommended toy...\n",
       "155    son cameron loves great little stacking cars e...\n",
       "156    one year old son received birthday gift loves ...\n",
       "157    purchased toy great grandsons first christmas ...\n",
       "Name: review1, dtype: object"
      ]
     },
     "execution_count": 17,
     "metadata": {},
     "output_type": "execute_result"
    }
   ],
   "source": [
    "#nltk Natural  Language Toolkit\n",
    "import nltk                     \n",
    "nltk.download('stopwords')\n",
    "#stopwords means commonly occuring words\n",
    "from nltk.corpus import stopwords \n",
    "stop = stopwords.words('english')\n",
    "df['review1'] = df['review1'].apply(lambda x: \" \".join(x for x in x.split() if x not in stop))\n",
    "df['review1'].head()"
   ]
  },
  {
   "cell_type": "code",
   "execution_count": 19,
   "id": "c0d5d98d",
   "metadata": {},
   "outputs": [],
   "source": [
    "#PorterStemmer is used to remove prefixes and suffixes\n",
    "\n",
    "from nltk.stem import PorterStemmer\n",
    "st = PorterStemmer()\n",
    "df['review1'] = df['review'].apply(lambda x: \" \".join([st.stem(word) for word in x.split()]))"
   ]
  },
  {
   "cell_type": "code",
   "execution_count": 20,
   "id": "b7f8c1e9",
   "metadata": {},
   "outputs": [
    {
     "data": {
      "text/plain": [
       "153    we bought these for our son when he turn two. ...\n",
       "154    my son love stack cups, so a friend recommend ...\n",
       "155    my son cameron just love these great littl sta...\n",
       "156    my one year old son receiv these as a birthday...\n",
       "157    i purchas thi toy for my great grandson\\' firs...\n",
       "Name: review1, dtype: object"
      ]
     },
     "execution_count": 20,
     "metadata": {},
     "output_type": "execute_result"
    }
   ],
   "source": [
    "df['review1'].head(5)"
   ]
  },
  {
   "cell_type": "code",
   "execution_count": null,
   "id": "c1e824c5",
   "metadata": {},
   "outputs": [],
   "source": []
  }
 ],
 "metadata": {
  "kernelspec": {
   "display_name": "Python 3",
   "language": "python",
   "name": "python3"
  },
  "language_info": {
   "codemirror_mode": {
    "name": "ipython",
    "version": 3
   },
   "file_extension": ".py",
   "mimetype": "text/x-python",
   "name": "python",
   "nbconvert_exporter": "python",
   "pygments_lexer": "ipython3",
   "version": "3.8.8"
  }
 },
 "nbformat": 4,
 "nbformat_minor": 5
}
